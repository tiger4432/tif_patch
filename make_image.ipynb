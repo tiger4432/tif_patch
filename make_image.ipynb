{
 "cells": [
  {
   "cell_type": "code",
   "execution_count": 6,
   "id": "661b2c7d",
   "metadata": {},
   "outputs": [
    {
     "name": "stdout",
     "output_type": "stream",
     "text": [
      "Saved: wafer_sample_var_brightness_contrast.tif\n"
     ]
    }
   ],
   "source": [
    "from PIL import Image, ImageDraw, ImageEnhance\n",
    "import numpy as np\n",
    "import random\n",
    "\n",
    "W, H = 5000, 5000        # 페이지 크기\n",
    "NUM_PAGES = 11            # 페이지 수\n",
    "NUM_VOIDS = 50            # 페이지별 보이드 수\n",
    "\n",
    "pages = []\n",
    "for i in range(NUM_PAGES):\n",
    "    # --- 랜덤 밝기/대비 값 결정 ---\n",
    "    brightness_factor = 0.6 + 0.8 * random.random()   # 0.6 ~ 1.4\n",
    "    contrast_factor   = 0.6 + 0.8 * random.random()   # 0.6 ~ 1.4\n",
    "\n",
    "    # --- 기본 노이즈 배경 ---\n",
    "    arr = np.random.randint(40, 220, (H, W), dtype=np.uint8)\n",
    "    img = Image.fromarray(arr, mode='L').convert('RGB')\n",
    "\n",
    "    # 대비 조절\n",
    "    img = ImageEnhance.Contrast(img).enhance(contrast_factor)\n",
    "    # 밝기 조절\n",
    "    img = ImageEnhance.Brightness(img).enhance(brightness_factor)\n",
    "\n",
    "    draw = ImageDraw.Draw(img)\n",
    "    draw.text((100, 100), f\"Page {i+1}\\nB:{brightness_factor:.2f} C:{contrast_factor:.2f}\",\n",
    "              fill=(255, 0, 0))\n",
    "\n",
    "    # --- 랜덤 보이드(흰 원 + 검은 테두리) ---\n",
    "    for _ in range(NUM_VOIDS):\n",
    "        r = random.randint(50, 300)\n",
    "        x = random.randint(r, W - r)\n",
    "        y = random.randint(r, H - r)\n",
    "        bbox = [x - r, y - r, x + r, y + r]\n",
    "        draw.ellipse(bbox, fill=(255, 255, 255))\n",
    "        draw.ellipse(bbox, outline=(0, 0, 0), width=5)\n",
    "\n",
    "    pages.append(img)\n",
    "\n",
    "# --- 다중 페이지 TIFF 저장 ---\n",
    "out_path = \"wafer_sample_var_brightness_contrast.tif\"\n",
    "pages[0].save(\n",
    "    out_path,\n",
    "    save_all=True,\n",
    "    append_images=pages[1:]\n",
    ")\n",
    "print(\"Saved:\", out_path)\n"
   ]
  },
  {
   "cell_type": "code",
   "execution_count": null,
   "id": "855697d4",
   "metadata": {},
   "outputs": [],
   "source": [
    "#create realistc chip patch image\n",
    "#"
   ]
  }
 ],
 "metadata": {
  "kernelspec": {
   "display_name": "py37",
   "language": "python",
   "name": "py37"
  },
  "language_info": {
   "codemirror_mode": {
    "name": "ipython",
    "version": 3
   },
   "file_extension": ".py",
   "mimetype": "text/x-python",
   "name": "python",
   "nbconvert_exporter": "python",
   "pygments_lexer": "ipython3",
   "version": "3.7.16"
  }
 },
 "nbformat": 4,
 "nbformat_minor": 5
}
